{
  "nbformat": 4,
  "nbformat_minor": 0,
  "metadata": {
    "colab": {
      "provenance": [],
      "authorship_tag": "ABX9TyM64kr/VEXmhEVYpJ7TEEqa",
      "include_colab_link": true
    },
    "kernelspec": {
      "name": "python3",
      "display_name": "Python 3"
    },
    "language_info": {
      "name": "python"
    }
  },
  "cells": [
    {
      "cell_type": "markdown",
      "metadata": {
        "id": "view-in-github",
        "colab_type": "text"
      },
      "source": [
        "<a href=\"https://colab.research.google.com/github/Vikramaditya-ravi/Bag-of-word-representation-using-python/blob/master/bagOfWords.ipynb\" target=\"_parent\"><img src=\"https://colab.research.google.com/assets/colab-badge.svg\" alt=\"Open In Colab\"/></a>"
      ]
    },
    {
      "cell_type": "code",
      "execution_count": null,
      "metadata": {
        "id": "veygmiHXIM-l"
      },
      "outputs": [],
      "source": [
        "import nltk"
      ]
    },
    {
      "cell_type": "code",
      "source": [
        "nltk.download('punkt')"
      ],
      "metadata": {
        "colab": {
          "base_uri": "https://localhost:8080/"
        },
        "id": "NKs39zvdLIiO",
        "outputId": "d2fc594c-ac99-4708-85fb-f8f39ccc6404"
      },
      "execution_count": null,
      "outputs": [
        {
          "output_type": "stream",
          "name": "stderr",
          "text": [
            "[nltk_data] Downloading package punkt to /root/nltk_data...\n",
            "[nltk_data]   Unzipping tokenizers/punkt.zip.\n"
          ]
        },
        {
          "output_type": "execute_result",
          "data": {
            "text/plain": [
              "True"
            ]
          },
          "metadata": {},
          "execution_count": 10
        }
      ]
    },
    {
      "cell_type": "code",
      "source": [
        "nltk.download('stopwords')\n"
      ],
      "metadata": {
        "colab": {
          "base_uri": "https://localhost:8080/"
        },
        "id": "GMkn_cbaLZU9",
        "outputId": "1065479c-1d70-48c2-fb42-dae7ba88baab"
      },
      "execution_count": null,
      "outputs": [
        {
          "output_type": "stream",
          "name": "stderr",
          "text": [
            "[nltk_data] Downloading package stopwords to /root/nltk_data...\n",
            "[nltk_data]   Unzipping corpora/stopwords.zip.\n"
          ]
        },
        {
          "output_type": "execute_result",
          "data": {
            "text/plain": [
              "True"
            ]
          },
          "metadata": {},
          "execution_count": 14
        }
      ]
    },
    {
      "cell_type": "code",
      "source": [
        "nltk.download('wordnet')"
      ],
      "metadata": {
        "colab": {
          "base_uri": "https://localhost:8080/"
        },
        "id": "WluC4ML9NaWe",
        "outputId": "e3745de3-6880-409a-d4b5-f3a57a30e15c"
      },
      "execution_count": null,
      "outputs": [
        {
          "output_type": "stream",
          "name": "stderr",
          "text": [
            "[nltk_data] Downloading package wordnet to /root/nltk_data...\n"
          ]
        },
        {
          "output_type": "execute_result",
          "data": {
            "text/plain": [
              "True"
            ]
          },
          "metadata": {},
          "execution_count": 24
        }
      ]
    },
    {
      "cell_type": "code",
      "source": [
        "paragraph = \"\"\"I have three visions for India. In 3000 years of our history, people from all over\n",
        "the world have come and invaded us, captured our lands, conquered our minds.\n",
        "From Alexander onwards, the Greeks, the Turks, the Moguls, the Portuguese, the British\n",
        "the French, the Dutch, all of them came and looted us, took over what was ours\n",
        "Yet we have not done this to any other nation. We have not conquered anyone\n",
        "We have not grabbed their land, their culture,\n",
        "their history and tried to enforce our way of life on them.\n",
        "Why? Because we respect the freedom of others. That is why my\n",
        "first vision is that of freedom. I believe that India got its First\n",
        "this in 1857, when we started the War of Independence. It is this\n",
        "•edom that\n",
        "we must protect and nurture and build on. If we are not free, no one wild respect us.\n",
        "My second vision for India's development. For fifty years we have been a developing nation.\n",
        "It is time we see ourselves as a developed nation. We are among the top 5 nations of the wo\n",
        "in terms of GDP. We have a 10 percent growth rate in most areas. Our poverty levels are fall\n",
        "Our achievements are being globally recognised today. Yet we lack the self-confidence to\n",
        "see ourselves as a developed nation, self-reliant and self-assured. Isn't this incorrect?]\n",
        "I have a third vision. India must stand up to the world. Because I believe that unless India\n",
        "stands up to the world, no one will respect us. Only strength respects strength. We must be\n",
        "strong not only as a military power but also as an economic power. Both must go hand-in-han\n",
        "My good fortune was to have worked with three great minds. Dr, Vikram Sarabhai of the Dept.\n",
        "space, Professor Satish Dhawan, who succeeded him and Dr. Brahm Prakash, father of nuclear\n",
        "I was lucky to have worked with all three of them closely and consider this the great opport\n",
        "I see four milestones in my career\"\"\""
      ],
      "metadata": {
        "id": "quwNr3U7Idmn"
      },
      "execution_count": null,
      "outputs": []
    },
    {
      "cell_type": "code",
      "source": [
        "import re\n",
        "from nltk.corpus import stopwords\n",
        "from nltk.stem.porter import PorterStemmer\n",
        "from nltk.stem import WordNetLemmatizer"
      ],
      "metadata": {
        "id": "b4xDiVmKImwN"
      },
      "execution_count": null,
      "outputs": []
    },
    {
      "cell_type": "code",
      "source": [
        "ps = PorterStemmer()\n",
        "wnl = WordNetLemmatizer()\n",
        "sentences  = nltk.sent_tokenize(paragraph)\n",
        "corpus = []\n",
        "for i in range(len(sentences)):\n",
        "  review = re.sub('[^a-zA-Z]',' ',sentences[i])\n",
        "  review = review.lower()\n",
        "  review = review.split()\n",
        "  review = [wnl.lemmatize(word) for word in review if not word in set(stopwords.words('english'))]\n",
        "  review = ''.join(review)\n",
        "  corpus.append(review)\n"
      ],
      "metadata": {
        "id": "2CFttbrDI-L2"
      },
      "execution_count": null,
      "outputs": []
    },
    {
      "cell_type": "code",
      "source": [
        "print(sentences)"
      ],
      "metadata": {
        "colab": {
          "base_uri": "https://localhost:8080/"
        },
        "id": "kcFRbLC7LcfW",
        "outputId": "d3358a27-4cf9-457e-ca05-dff56432efaf"
      },
      "execution_count": null,
      "outputs": [
        {
          "output_type": "stream",
          "name": "stdout",
          "text": [
            "['I have three visions for India.', 'In 3000 years of our history, people from all over\\nthe world have come and invaded us, captured our lands, conquered our minds.', 'From Alexander onwards, the Greeks, the Turks, the Moguls, the Portuguese, the British\\nthe French, the Dutch, all of them came and looted us, took over what was ours\\nYet we have not done this to any other nation.', 'We have not conquered anyone\\nWe have not grabbed their land, their culture,\\ntheir history and tried to enforce our way of life on them.', 'Why?', 'Because we respect the freedom of others.', 'That is why my\\nfirst vision is that of freedom.', 'I believe that India got its First\\nthis in 1857, when we started the War of Independence.', 'It is this\\n•edom that\\nwe must protect and nurture and build on.', 'If we are not free, no one wild respect us.', \"My second vision for India's development.\", 'For fifty years we have been a developing nation.', 'It is time we see ourselves as a developed nation.', 'We are among the top 5 nations of the wo\\nin terms of GDP.', 'We have a 10 percent growth rate in most areas.', 'Our poverty levels are fall\\nOur achievements are being globally recognised today.', 'Yet we lack the self-confidence to\\nsee ourselves as a developed nation, self-reliant and self-assured.', \"Isn't this incorrect?]\", 'I have a third vision.', 'India must stand up to the world.', 'Because I believe that unless India\\nstands up to the world, no one will respect us.', 'Only strength respects strength.', 'We must be\\nstrong not only as a military power but also as an economic power.', 'Both must go hand-in-han\\nMy good fortune was to have worked with three great minds.', 'Dr, Vikram Sarabhai of the Dept.', 'space, Professor Satish Dhawan, who succeeded him and Dr. Brahm Prakash, father of nuclear\\nI was lucky to have worked with all three of them closely and consider this the great opport\\nI see four milestones in my career']\n"
          ]
        }
      ]
    },
    {
      "cell_type": "code",
      "source": [
        "print(corpus)"
      ],
      "metadata": {
        "colab": {
          "base_uri": "https://localhost:8080/"
        },
        "id": "l34Hdab3L7g9",
        "outputId": "c3575e0a-30ab-4d61-e9a9-184dd99f3ae2"
      },
      "execution_count": null,
      "outputs": [
        {
          "output_type": "stream",
          "name": "stdout",
          "text": [
            "['threevisionindia', 'yearhistorypeopleworldcomeinvadeducapturedlandconqueredmind', 'alexanderonwardsgreekturkmogulportuguesebritishfrenchdutchcamelootedutookyetdonenation', 'conqueredanyonegrabbedlandculturehistorytriedenforcewaylife', '', 'respectfreedomothers', 'firstvisionfreedom', 'believeindiagotfirststartedwarindependence', 'edommustprotectnurturebuild', 'freeonewildrespectu', 'secondvisionindiadevelopment', 'fiftyyeardevelopingnation', 'timeseedevelopednation', 'amongtopnationwotermgdp', 'percentgrowthratearea', 'povertylevelfallachievementgloballyrecognisedtoday', 'yetlackselfconfidenceseedevelopednationselfreliantselfassured', 'incorrect', 'thirdvision', 'indiamuststandworld', 'believeunlessindiastandworldonerespectu', 'strengthrespectstrength', 'muststrongmilitarypoweralsoeconomicpower', 'mustgohandhangoodfortuneworkedthreegreatmind', 'drvikramsarabhaidept', 'spaceprofessorsatishdhawansucceededdrbrahmprakashfathernuclearluckyworkedthreecloselyconsidergreatopportseefourmilestonecareer']\n"
          ]
        }
      ]
    },
    {
      "cell_type": "markdown",
      "source": [
        "Bag of Word representaion of documents"
      ],
      "metadata": {
        "id": "YKW9jxm-PE5k"
      }
    },
    {
      "cell_type": "code",
      "source": [
        "from sklearn.feature_extraction.text import CountVectorizer\n",
        "cv = CountVectorizer()\n",
        "X = cv.fit_transform(corpus).toarray()"
      ],
      "metadata": {
        "id": "eNPQ7VvfNipb"
      },
      "execution_count": null,
      "outputs": []
    },
    {
      "cell_type": "code",
      "source": [
        "X.shape"
      ],
      "metadata": {
        "colab": {
          "base_uri": "https://localhost:8080/"
        },
        "id": "VSx6M5yDOWjV",
        "outputId": "147044ce-f49c-4aec-e1c9-f48bcab35e3b"
      },
      "execution_count": null,
      "outputs": [
        {
          "output_type": "execute_result",
          "data": {
            "text/plain": [
              "(26, 25)"
            ]
          },
          "metadata": {},
          "execution_count": 37
        }
      ]
    },
    {
      "cell_type": "code",
      "source": [
        "26*25"
      ],
      "metadata": {
        "colab": {
          "base_uri": "https://localhost:8080/"
        },
        "id": "CtMfbZJbOmYU",
        "outputId": "f1577b2f-508f-4ca8-c563-adf0fc04e5a8"
      },
      "execution_count": null,
      "outputs": [
        {
          "output_type": "execute_result",
          "data": {
            "text/plain": [
              "650"
            ]
          },
          "metadata": {},
          "execution_count": 31
        }
      ]
    },
    {
      "cell_type": "code",
      "source": [
        "print(X)"
      ],
      "metadata": {
        "colab": {
          "base_uri": "https://localhost:8080/"
        },
        "id": "lwinkezTMRH3",
        "outputId": "ae34443a-aaa5-49f6-909f-9a4622351540"
      },
      "execution_count": null,
      "outputs": [
        {
          "output_type": "stream",
          "name": "stdout",
          "text": [
            "[[0 0 0 0 0 0 0 0 0 0 0 0 0 0 0 0 0 0 0 0 0 1 0 0 0]\n",
            " [0 0 0 0 0 0 0 0 0 0 0 0 0 0 0 0 0 0 0 0 0 0 0 1 0]\n",
            " [1 0 0 0 0 0 0 0 0 0 0 0 0 0 0 0 0 0 0 0 0 0 0 0 0]\n",
            " [0 0 0 0 1 0 0 0 0 0 0 0 0 0 0 0 0 0 0 0 0 0 0 0 0]\n",
            " [0 0 0 0 0 0 0 0 0 0 0 0 0 0 0 0 0 0 0 0 0 0 0 0 0]\n",
            " [0 0 0 0 0 0 0 0 0 0 0 0 0 0 0 0 1 0 0 0 0 0 0 0 0]\n",
            " [0 0 0 0 0 0 0 0 1 0 0 0 0 0 0 0 0 0 0 0 0 0 0 0 0]\n",
            " [0 0 1 0 0 0 0 0 0 0 0 0 0 0 0 0 0 0 0 0 0 0 0 0 0]\n",
            " [0 0 0 0 0 0 1 0 0 0 0 0 0 0 0 0 0 0 0 0 0 0 0 0 0]\n",
            " [0 0 0 0 0 0 0 0 0 1 0 0 0 0 0 0 0 0 0 0 0 0 0 0 0]\n",
            " [0 0 0 0 0 0 0 0 0 0 0 0 0 0 0 0 0 1 0 0 0 0 0 0 0]\n",
            " [0 0 0 0 0 0 0 1 0 0 0 0 0 0 0 0 0 0 0 0 0 0 0 0 0]\n",
            " [0 0 0 0 0 0 0 0 0 0 0 0 0 0 0 0 0 0 0 0 0 0 1 0 0]\n",
            " [0 1 0 0 0 0 0 0 0 0 0 0 0 0 0 0 0 0 0 0 0 0 0 0 0]\n",
            " [0 0 0 0 0 0 0 0 0 0 0 0 0 0 1 0 0 0 0 0 0 0 0 0 0]\n",
            " [0 0 0 0 0 0 0 0 0 0 0 0 0 0 0 1 0 0 0 0 0 0 0 0 0]\n",
            " [0 0 0 0 0 0 0 0 0 0 0 0 0 0 0 0 0 0 0 0 0 0 0 0 1]\n",
            " [0 0 0 0 0 0 0 0 0 0 1 0 0 0 0 0 0 0 0 0 0 0 0 0 0]\n",
            " [0 0 0 0 0 0 0 0 0 0 0 0 0 0 0 0 0 0 0 0 1 0 0 0 0]\n",
            " [0 0 0 0 0 0 0 0 0 0 0 1 0 0 0 0 0 0 0 0 0 0 0 0 0]\n",
            " [0 0 0 1 0 0 0 0 0 0 0 0 0 0 0 0 0 0 0 0 0 0 0 0 0]\n",
            " [0 0 0 0 0 0 0 0 0 0 0 0 0 0 0 0 0 0 0 1 0 0 0 0 0]\n",
            " [0 0 0 0 0 0 0 0 0 0 0 0 0 1 0 0 0 0 0 0 0 0 0 0 0]\n",
            " [0 0 0 0 0 0 0 0 0 0 0 0 1 0 0 0 0 0 0 0 0 0 0 0 0]\n",
            " [0 0 0 0 0 1 0 0 0 0 0 0 0 0 0 0 0 0 0 0 0 0 0 0 0]\n",
            " [0 0 0 0 0 0 0 0 0 0 0 0 0 0 0 0 0 0 1 0 0 0 0 0 0]]\n"
          ]
        }
      ]
    },
    {
      "cell_type": "markdown",
      "source": [
        "TF-IDF representation of documents"
      ],
      "metadata": {
        "id": "TT6a_z2gPQgE"
      }
    },
    {
      "cell_type": "code",
      "source": [
        "from sklearn.feature_extraction.text import TfidfVectorizer\n",
        "obj = TfidfVectorizer()\n",
        "X2 = obj.fit_transform(corpus).toarray"
      ],
      "metadata": {
        "id": "KmnvqPvYPWoG"
      },
      "execution_count": null,
      "outputs": []
    }
  ]
}